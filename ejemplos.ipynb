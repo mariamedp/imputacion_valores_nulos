{
 "cells": [
  {
   "cell_type": "code",
   "execution_count": 62,
   "metadata": {},
   "outputs": [],
   "source": [
    "import pandas as pd\n",
    "import numpy as np\n",
    "from matplotlib import pyplot as plt\n",
    "import seaborn as sns"
   ]
  },
  {
   "cell_type": "code",
   "execution_count": 2,
   "metadata": {},
   "outputs": [
    {
     "data": {
      "text/html": [
       "<div>\n",
       "<style scoped>\n",
       "    .dataframe tbody tr th:only-of-type {\n",
       "        vertical-align: middle;\n",
       "    }\n",
       "\n",
       "    .dataframe tbody tr th {\n",
       "        vertical-align: top;\n",
       "    }\n",
       "\n",
       "    .dataframe thead th {\n",
       "        text-align: right;\n",
       "    }\n",
       "</style>\n",
       "<table border=\"1\" class=\"dataframe\">\n",
       "  <thead>\n",
       "    <tr style=\"text-align: right;\">\n",
       "      <th></th>\n",
       "      <th>estacion</th>\n",
       "      <th>zona</th>\n",
       "      <th>timestamp</th>\n",
       "      <th>NO2</th>\n",
       "      <th>O3</th>\n",
       "      <th>PM10</th>\n",
       "      <th>PM2.5</th>\n",
       "      <th>missing</th>\n",
       "    </tr>\n",
       "  </thead>\n",
       "  <tbody>\n",
       "    <tr>\n",
       "      <th>19857</th>\n",
       "      <td>Juan Carlos I</td>\n",
       "      <td>3</td>\n",
       "      <td>2017-12-31 09:00:00</td>\n",
       "      <td>25.0</td>\n",
       "      <td>15.0</td>\n",
       "      <td>NaN</td>\n",
       "      <td>NaN</td>\n",
       "      <td>False</td>\n",
       "    </tr>\n",
       "    <tr>\n",
       "      <th>13402</th>\n",
       "      <td>Escuelas Aguirre</td>\n",
       "      <td>1</td>\n",
       "      <td>2017-10-07 09:00:00</td>\n",
       "      <td>39.0</td>\n",
       "      <td>57.0</td>\n",
       "      <td>5.0</td>\n",
       "      <td>3.0</td>\n",
       "      <td>False</td>\n",
       "    </tr>\n",
       "    <tr>\n",
       "      <th>9930</th>\n",
       "      <td>El Pardo</td>\n",
       "      <td>4</td>\n",
       "      <td>2017-11-15 18:00:00</td>\n",
       "      <td>81.0</td>\n",
       "      <td>2.0</td>\n",
       "      <td>NaN</td>\n",
       "      <td>NaN</td>\n",
       "      <td>False</td>\n",
       "    </tr>\n",
       "    <tr>\n",
       "      <th>24514</th>\n",
       "      <td>Pza. del Carmen</td>\n",
       "      <td>1</td>\n",
       "      <td>2017-10-10 09:00:00</td>\n",
       "      <td>90.0</td>\n",
       "      <td>4.0</td>\n",
       "      <td>NaN</td>\n",
       "      <td>NaN</td>\n",
       "      <td>False</td>\n",
       "    </tr>\n",
       "    <tr>\n",
       "      <th>29595</th>\n",
       "      <td>Villaverde Alto</td>\n",
       "      <td>5</td>\n",
       "      <td>2017-11-07 03:00:00</td>\n",
       "      <td>50.0</td>\n",
       "      <td>6.0</td>\n",
       "      <td>NaN</td>\n",
       "      <td>NaN</td>\n",
       "      <td>False</td>\n",
       "    </tr>\n",
       "    <tr>\n",
       "      <th>17237</th>\n",
       "      <td>Farolillo</td>\n",
       "      <td>5</td>\n",
       "      <td>2017-12-14 05:00:00</td>\n",
       "      <td>10.0</td>\n",
       "      <td>43.0</td>\n",
       "      <td>5.0</td>\n",
       "      <td>NaN</td>\n",
       "      <td>False</td>\n",
       "    </tr>\n",
       "    <tr>\n",
       "      <th>908</th>\n",
       "      <td>Arturo Soria</td>\n",
       "      <td>3</td>\n",
       "      <td>2017-11-07 20:00:00</td>\n",
       "      <td>136.0</td>\n",
       "      <td>5.0</td>\n",
       "      <td>NaN</td>\n",
       "      <td>NaN</td>\n",
       "      <td>False</td>\n",
       "    </tr>\n",
       "    <tr>\n",
       "      <th>27489</th>\n",
       "      <td>Tres Olivos</td>\n",
       "      <td>3</td>\n",
       "      <td>2017-11-11 09:00:00</td>\n",
       "      <td>62.0</td>\n",
       "      <td>14.0</td>\n",
       "      <td>42.0</td>\n",
       "      <td>NaN</td>\n",
       "      <td>False</td>\n",
       "    </tr>\n",
       "    <tr>\n",
       "      <th>18197</th>\n",
       "      <td>Juan Carlos I</td>\n",
       "      <td>3</td>\n",
       "      <td>2017-10-23 04:00:00</td>\n",
       "      <td>16.0</td>\n",
       "      <td>28.0</td>\n",
       "      <td>NaN</td>\n",
       "      <td>NaN</td>\n",
       "      <td>False</td>\n",
       "    </tr>\n",
       "    <tr>\n",
       "      <th>20647</th>\n",
       "      <td>Parque del Retiro</td>\n",
       "      <td>1</td>\n",
       "      <td>2017-11-02 07:00:00</td>\n",
       "      <td>42.0</td>\n",
       "      <td>8.0</td>\n",
       "      <td>NaN</td>\n",
       "      <td>NaN</td>\n",
       "      <td>False</td>\n",
       "    </tr>\n",
       "  </tbody>\n",
       "</table>\n",
       "</div>"
      ],
      "text/plain": [
       "                estacion  zona            timestamp    NO2    O3  PM10  PM2.5  \\\n",
       "19857      Juan Carlos I     3  2017-12-31 09:00:00   25.0  15.0   NaN    NaN   \n",
       "13402   Escuelas Aguirre     1  2017-10-07 09:00:00   39.0  57.0   5.0    3.0   \n",
       "9930            El Pardo     4  2017-11-15 18:00:00   81.0   2.0   NaN    NaN   \n",
       "24514    Pza. del Carmen     1  2017-10-10 09:00:00   90.0   4.0   NaN    NaN   \n",
       "29595    Villaverde Alto     5  2017-11-07 03:00:00   50.0   6.0   NaN    NaN   \n",
       "17237          Farolillo     5  2017-12-14 05:00:00   10.0  43.0   5.0    NaN   \n",
       "908         Arturo Soria     3  2017-11-07 20:00:00  136.0   5.0   NaN    NaN   \n",
       "27489        Tres Olivos     3  2017-11-11 09:00:00   62.0  14.0  42.0    NaN   \n",
       "18197      Juan Carlos I     3  2017-10-23 04:00:00   16.0  28.0   NaN    NaN   \n",
       "20647  Parque del Retiro     1  2017-11-02 07:00:00   42.0   8.0   NaN    NaN   \n",
       "\n",
       "       missing  \n",
       "19857    False  \n",
       "13402    False  \n",
       "9930     False  \n",
       "24514    False  \n",
       "29595    False  \n",
       "17237    False  \n",
       "908      False  \n",
       "27489    False  \n",
       "18197    False  \n",
       "20647    False  "
      ]
     },
     "execution_count": 2,
     "metadata": {},
     "output_type": "execute_result"
    }
   ],
   "source": [
    "contaminacion = pd.read_csv(\"contaminacion_201710-201712.csv\")\n",
    "contaminacion['missing'] = pd.isnull(contaminacion.NO2)\n",
    "\n",
    "contaminacion.sample(10)"
   ]
  },
  {
   "cell_type": "markdown",
   "metadata": {},
   "source": [
    "### Ejemplo 1: media"
   ]
  },
  {
   "cell_type": "code",
   "execution_count": 3,
   "metadata": {},
   "outputs": [
    {
     "data": {
      "text/html": [
       "<div>\n",
       "<style scoped>\n",
       "    .dataframe tbody tr th:only-of-type {\n",
       "        vertical-align: middle;\n",
       "    }\n",
       "\n",
       "    .dataframe tbody tr th {\n",
       "        vertical-align: top;\n",
       "    }\n",
       "\n",
       "    .dataframe thead th {\n",
       "        text-align: right;\n",
       "    }\n",
       "</style>\n",
       "<table border=\"1\" class=\"dataframe\">\n",
       "  <thead>\n",
       "    <tr style=\"text-align: right;\">\n",
       "      <th></th>\n",
       "      <th>estacion</th>\n",
       "      <th>zona</th>\n",
       "      <th>timestamp</th>\n",
       "      <th>NO2</th>\n",
       "      <th>O3</th>\n",
       "      <th>PM10</th>\n",
       "      <th>PM2.5</th>\n",
       "      <th>missing</th>\n",
       "      <th>NO2_fill1</th>\n",
       "    </tr>\n",
       "  </thead>\n",
       "  <tbody>\n",
       "    <tr>\n",
       "      <th>7793</th>\n",
       "      <td>Casa de Campo</td>\n",
       "      <td>4</td>\n",
       "      <td>2017-11-18 17:00:00</td>\n",
       "      <td>NaN</td>\n",
       "      <td>NaN</td>\n",
       "      <td>NaN</td>\n",
       "      <td>NaN</td>\n",
       "      <td>True</td>\n",
       "      <td>55.007985</td>\n",
       "    </tr>\n",
       "    <tr>\n",
       "      <th>14150</th>\n",
       "      <td>Escuelas Aguirre</td>\n",
       "      <td>1</td>\n",
       "      <td>2017-11-07 14:00:00</td>\n",
       "      <td>NaN</td>\n",
       "      <td>NaN</td>\n",
       "      <td>NaN</td>\n",
       "      <td>NaN</td>\n",
       "      <td>True</td>\n",
       "      <td>55.007985</td>\n",
       "    </tr>\n",
       "    <tr>\n",
       "      <th>203</th>\n",
       "      <td>Arturo Soria</td>\n",
       "      <td>3</td>\n",
       "      <td>2017-10-09 10:00:00</td>\n",
       "      <td>NaN</td>\n",
       "      <td>45.0</td>\n",
       "      <td>NaN</td>\n",
       "      <td>NaN</td>\n",
       "      <td>True</td>\n",
       "      <td>55.007985</td>\n",
       "    </tr>\n",
       "    <tr>\n",
       "      <th>26707</th>\n",
       "      <td>Tres Olivos</td>\n",
       "      <td>3</td>\n",
       "      <td>2017-10-09 18:00:00</td>\n",
       "      <td>NaN</td>\n",
       "      <td>NaN</td>\n",
       "      <td>28.0</td>\n",
       "      <td>NaN</td>\n",
       "      <td>True</td>\n",
       "      <td>55.007985</td>\n",
       "    </tr>\n",
       "    <tr>\n",
       "      <th>22981</th>\n",
       "      <td>Pza. Fernández Ladreda</td>\n",
       "      <td>5</td>\n",
       "      <td>2017-11-07 13:00:00</td>\n",
       "      <td>NaN</td>\n",
       "      <td>21.0</td>\n",
       "      <td>NaN</td>\n",
       "      <td>NaN</td>\n",
       "      <td>True</td>\n",
       "      <td>55.007985</td>\n",
       "    </tr>\n",
       "  </tbody>\n",
       "</table>\n",
       "</div>"
      ],
      "text/plain": [
       "                     estacion  zona            timestamp  NO2    O3  PM10  \\\n",
       "7793            Casa de Campo     4  2017-11-18 17:00:00  NaN   NaN   NaN   \n",
       "14150        Escuelas Aguirre     1  2017-11-07 14:00:00  NaN   NaN   NaN   \n",
       "203              Arturo Soria     3  2017-10-09 10:00:00  NaN  45.0   NaN   \n",
       "26707             Tres Olivos     3  2017-10-09 18:00:00  NaN   NaN  28.0   \n",
       "22981  Pza. Fernández Ladreda     5  2017-11-07 13:00:00  NaN  21.0   NaN   \n",
       "\n",
       "       PM2.5  missing  NO2_fill1  \n",
       "7793     NaN     True  55.007985  \n",
       "14150    NaN     True  55.007985  \n",
       "203      NaN     True  55.007985  \n",
       "26707    NaN     True  55.007985  \n",
       "22981    NaN     True  55.007985  "
      ]
     },
     "execution_count": 3,
     "metadata": {},
     "output_type": "execute_result"
    }
   ],
   "source": [
    "contaminacion['NO2_fill1'] = contaminacion.NO2.where(pd.notna(contaminacion.NO2), contaminacion.NO2.mean())\n",
    "\n",
    "contaminacion[pd.isna(contaminacion.NO2)].sample(5)"
   ]
  },
  {
   "cell_type": "code",
   "execution_count": 95,
   "metadata": {},
   "outputs": [
    {
     "data": {
      "text/plain": [
       "Text(0.5,1,'Promedio NO2 por zona')"
      ]
     },
     "execution_count": 95,
     "metadata": {},
     "output_type": "execute_result"
    },
    {
     "data": {
      "image/png": "[encoded data removed]",
      "text/plain": [
       "<Figure size 432x288 with 1 Axes>"
      ]
     },
     "metadata": {},
     "output_type": "display_data"
    }
   ],
   "source": [
    "sns.barplot('zona', 'NO2', \n",
    "            data=contaminacion.groupby('zona')[['NO2']].mean().reset_index(),\n",
    "            color='gray', alpha=0.5)\n",
    "\n",
    "sns.pointplot('zona', 'NO2_fill1', \n",
    "              data=contaminacion[contaminacion.missing].groupby('zona')[['NO2_fill1']].min().reset_index(),\n",
    "              color='red', linestyles=\"\", markers=\"x\")\n",
    "\n",
    "plt.title(\"Promedio NO2 por zona\")"
   ]
  },
  {
   "cell_type": "markdown",
   "metadata": {},
   "source": [
    "### Ejemplo 2: media/mediana por estación"
   ]
  },
  {
   "cell_type": "code",
   "execution_count": 81,
   "metadata": {},
   "outputs": [
    {
     "data": {
      "text/html": [
       "<div>\n",
       "<style scoped>\n",
       "    .dataframe tbody tr th:only-of-type {\n",
       "        vertical-align: middle;\n",
       "    }\n",
       "\n",
       "    .dataframe tbody tr th {\n",
       "        vertical-align: top;\n",
       "    }\n",
       "\n",
       "    .dataframe thead th {\n",
       "        text-align: right;\n",
       "    }\n",
       "</style>\n",
       "<table border=\"1\" class=\"dataframe\">\n",
       "  <thead>\n",
       "    <tr style=\"text-align: right;\">\n",
       "      <th></th>\n",
       "      <th>estacion</th>\n",
       "      <th>zona</th>\n",
       "      <th>timestamp</th>\n",
       "      <th>NO2</th>\n",
       "      <th>O3</th>\n",
       "      <th>PM10</th>\n",
       "      <th>PM2.5</th>\n",
       "      <th>missing</th>\n",
       "      <th>NO2_fill1</th>\n",
       "      <th>NO2_fill2</th>\n",
       "    </tr>\n",
       "  </thead>\n",
       "  <tbody>\n",
       "    <tr>\n",
       "      <th>4432</th>\n",
       "      <td>Barrio del Pilar</td>\n",
       "      <td>1</td>\n",
       "      <td>2017-10-01 15:00:00</td>\n",
       "      <td>NaN</td>\n",
       "      <td>76.0</td>\n",
       "      <td>NaN</td>\n",
       "      <td>NaN</td>\n",
       "      <td>True</td>\n",
       "      <td>55.007985</td>\n",
       "      <td>62.602564</td>\n",
       "    </tr>\n",
       "    <tr>\n",
       "      <th>25500</th>\n",
       "      <td>Pza. del Carmen</td>\n",
       "      <td>1</td>\n",
       "      <td>2017-11-20 12:00:00</td>\n",
       "      <td>NaN</td>\n",
       "      <td>2.0</td>\n",
       "      <td>NaN</td>\n",
       "      <td>NaN</td>\n",
       "      <td>True</td>\n",
       "      <td>55.007985</td>\n",
       "      <td>59.635374</td>\n",
       "    </tr>\n",
       "    <tr>\n",
       "      <th>16903</th>\n",
       "      <td>Farolillo</td>\n",
       "      <td>5</td>\n",
       "      <td>2017-11-30 07:00:00</td>\n",
       "      <td>NaN</td>\n",
       "      <td>NaN</td>\n",
       "      <td>4.0</td>\n",
       "      <td>NaN</td>\n",
       "      <td>True</td>\n",
       "      <td>55.007985</td>\n",
       "      <td>56.990901</td>\n",
       "    </tr>\n",
       "    <tr>\n",
       "      <th>24828</th>\n",
       "      <td>Pza. del Carmen</td>\n",
       "      <td>1</td>\n",
       "      <td>2017-10-23 11:00:00</td>\n",
       "      <td>NaN</td>\n",
       "      <td>NaN</td>\n",
       "      <td>NaN</td>\n",
       "      <td>NaN</td>\n",
       "      <td>True</td>\n",
       "      <td>55.007985</td>\n",
       "      <td>59.635374</td>\n",
       "    </tr>\n",
       "    <tr>\n",
       "      <th>17797</th>\n",
       "      <td>Juan Carlos I</td>\n",
       "      <td>3</td>\n",
       "      <td>2017-10-06 12:00:00</td>\n",
       "      <td>NaN</td>\n",
       "      <td>92.0</td>\n",
       "      <td>NaN</td>\n",
       "      <td>NaN</td>\n",
       "      <td>True</td>\n",
       "      <td>55.007985</td>\n",
       "      <td>40.696777</td>\n",
       "    </tr>\n",
       "  </tbody>\n",
       "</table>\n",
       "</div>"
      ],
      "text/plain": [
       "               estacion  zona            timestamp  NO2    O3  PM10  PM2.5  \\\n",
       "4432   Barrio del Pilar     1  2017-10-01 15:00:00  NaN  76.0   NaN    NaN   \n",
       "25500   Pza. del Carmen     1  2017-11-20 12:00:00  NaN   2.0   NaN    NaN   \n",
       "16903         Farolillo     5  2017-11-30 07:00:00  NaN   NaN   4.0    NaN   \n",
       "24828   Pza. del Carmen     1  2017-10-23 11:00:00  NaN   NaN   NaN    NaN   \n",
       "17797     Juan Carlos I     3  2017-10-06 12:00:00  NaN  92.0   NaN    NaN   \n",
       "\n",
       "       missing  NO2_fill1  NO2_fill2  \n",
       "4432      True  55.007985  62.602564  \n",
       "25500     True  55.007985  59.635374  \n",
       "16903     True  55.007985  56.990901  \n",
       "24828     True  55.007985  59.635374  \n",
       "17797     True  55.007985  40.696777  "
      ]
     },
     "execution_count": 81,
     "metadata": {},
     "output_type": "execute_result"
    }
   ],
   "source": [
    "contaminacion['NO2_fill2'] = contaminacion.NO2.where(pd.notna(contaminacion.NO2), \n",
    "                                                     contaminacion.groupby('estacion').NO2.transform('mean'))\n",
    "contaminacion[pd.isna(contaminacion.NO2)].sample(5)"
   ]
  },
  {
   "cell_type": "code",
   "execution_count": 97,
   "metadata": {},
   "outputs": [
    {
     "data": {
      "text/plain": [
       "Text(0.5,1,'Distribución NO2 por zona')"
      ]
     },
     "execution_count": 97,
     "metadata": {},
     "output_type": "execute_result"
    },
    {
     "data": {
      "image/png": "[encoded data removed]",
      "text/plain": [
       "<Figure size 432x288 with 1 Axes>"
      ]
     },
     "metadata": {},
     "output_type": "display_data"
    }
   ],
   "source": [
    "sns.violinplot('zona', 'NO2', data=contaminacion,\n",
    "               inner=None, color='gray', alpha=0.5)\n",
    "\n",
    "sns.pointplot('zona', 'NO2', \n",
    "              data=contaminacion.groupby('zona')[['NO2']].mean().reset_index(),\n",
    "              color='red', linestyles=\"\", markers=\"x\")\n",
    "\n",
    "sns.pointplot('zona', 'NO2', \n",
    "              data=contaminacion.groupby('zona')[['NO2']].median().reset_index(),\n",
    "              color='orange', linestyles=\"\", markers=\"x\")\n",
    "\n",
    "plt.title(\"Distribución NO2 por zona\")"
   ]
  },
  {
   "cell_type": "code",
   "execution_count": 105,
   "metadata": {},
   "outputs": [
    {
     "data": {
      "text/plain": [
       "Text(0.5,1,'Distribución NO2 por estación (zona 4)')"
      ]
     },
     "execution_count": 105,
     "metadata": {},
     "output_type": "execute_result"
    },
    {
     "data": {
      "image/png": "[encoded data removed]",
      "text/plain": [
       "<Figure size 432x288 with 1 Axes>"
      ]
     },
     "metadata": {},
     "output_type": "display_data"
    }
   ],
   "source": [
    "sns.violinplot('estacion', 'NO2', data=contaminacion[contaminacion.zona == 4],\n",
    "               inner=None, color='gray', alpha=0.5)\n",
    "\n",
    "sns.pointplot('estacion', 'NO2', \n",
    "              data=contaminacion[contaminacion.zona == 4].groupby('estacion')[['NO2']].mean().reset_index(),\n",
    "              color='red', linestyles=\"\", markers=\"x\")\n",
    "\n",
    "sns.pointplot('estacion', 'NO2', \n",
    "              data=contaminacion[contaminacion.zona == 4].groupby('estacion')[['NO2']].median().reset_index(),\n",
    "              color='orange', linestyles=\"\", markers=\"x\")\n",
    "\n",
    "plt.title(\"Distribución NO2 por estación (zona 4)\")"
   ]
  },
  {
   "cell_type": "markdown",
   "metadata": {},
   "source": [
    "### Ejemplo 3: imputación aleatoria por estación"
   ]
  },
  {
   "cell_type": "code",
   "execution_count": null,
   "metadata": {},
   "outputs": [],
   "source": []
  },
  {
   "cell_type": "markdown",
   "metadata": {},
   "source": [
    "### Ejemplo 4: imputación por regresión"
   ]
  },
  {
   "cell_type": "markdown",
   "metadata": {},
   "source": [
    "#### Regresión lineal"
   ]
  },
  {
   "cell_type": "code",
   "execution_count": null,
   "metadata": {},
   "outputs": [],
   "source": []
  },
  {
   "cell_type": "markdown",
   "metadata": {},
   "source": [
    "#### Árbol de decisión"
   ]
  },
  {
   "cell_type": "code",
   "execution_count": null,
   "metadata": {},
   "outputs": [],
   "source": []
  },
  {
   "cell_type": "markdown",
   "metadata": {},
   "source": [
    "### Ejemplo 5: imputación temporal con última observación"
   ]
  },
  {
   "cell_type": "code",
   "execution_count": null,
   "metadata": {},
   "outputs": [],
   "source": []
  }
 ],
 "metadata": {
  "kernelspec": {
   "display_name": "Python 3",
   "language": "python",
   "name": "python3"
  },
  "language_info": {
   "codemirror_mode": {
    "name": "ipython",
    "version": 3
   },
   "file_extension": ".py",
   "mimetype": "text/x-python",
   "name": "python",
   "nbconvert_exporter": "python",
   "pygments_lexer": "ipython3",
   "version": "3.5.2"
  }
 },
 "nbformat": 4,
 "nbformat_minor": 2
}
